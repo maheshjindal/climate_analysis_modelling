{
 "cells": [
  {
   "cell_type": "markdown",
   "metadata": {
    "editable": true
   },
   "source": [
    "# Data Modelling to analyse impact of immigrants on the climate of USA - An ETL Pipeline\n",
    "\n",
    "#### Project Summary\n",
    "The goal of the project is to perform data modelling required to analyse the behavioral impact of Immigrants on the climate of different states of USA. To accomplish this task we are creating a data pipeline built up using the two different massive datasets containing immigrants data and the temperature data. We need to create a ELT database which is well optimized for running queries and performing other analytical operation to gather the facts/insights from this data.Using this database we can analyze the temperature behaviour of the different locations of the immigrant's destination.\n",
    "The project follows the follow steps:\n",
    "* Step 1: Scope the Project and Gather Data\n",
    "* Step 2: Explore and Assess the Data\n",
    "* Step 3: Define the Data Model\n",
    "* Step 4: Run ETL to Model the Data\n",
    "* Step 5: Complete Project Write Up"
   ]
  },
  {
   "cell_type": "code",
   "execution_count": 1,
   "metadata": {
    "editable": true
   },
   "outputs": [],
   "source": [
    "# Importing the required libraries\n",
    "import pandas as pd\n",
    "import re\n",
    "from collections import defaultdict\n",
    "from datetime import datetime, timedelta\n",
    "from pyspark.sql.functions import udf,col\n",
    "import pyspark.sql.functions as F\n",
    "from pyspark.sql.types import StringType"
   ]
  },
  {
   "cell_type": "markdown",
   "metadata": {
    "editable": true
   },
   "source": [
    "### Step 1: Scope the Project and Gather Data"
   ]
  },
  {
   "cell_type": "markdown",
   "metadata": {
    "editable": true
   },
   "source": [
    "#### **Scope**\n",
    "\n",
    "<font size=\"3\">\n",
    "    To create a data model, I am planning to take the Immigration data which consists of the immigrants personal details e.g.  when they arrived, what was the source city, and where what's their destination city in USA. I am planning to take the temperature dataset from the kaggle and combining it with this immigration dataset. We can aggregate this data on the basis of the <strong><i>destination city</i></strong> in USA. We can analyze the temperature behaviour on the basis of that particular city and how it affects the immigrant's destination city.To deal with this large amount of data we will be using spark as our data analytics tool for processing.\n",
    "</font>"
   ]
  },
  {
   "cell_type": "markdown",
   "metadata": {
    "editable": true
   },
   "source": [
    "#### Describe and Gather Data\n",
    "<br/>\n",
    "<div>\n",
    "<strong> Dataset Name : Immigration Data</strong>\n",
    "<br>\n",
    "<font size=\"3\">\n",
    "    This data comes from the <a href=\"https://travel.trade.gov/research/reports/i94/historical/2016.html\">US National Tourism and Trade Office</a>. This data contains the immigrant details which have been immigrated to USA. The description of the dataset is provided below:<br />\n",
    "        <em>Dataset Format</em> : \"SAS7BDAT\" (A binary format)\n",
    "\n",
    "<br />\n",
    "    <table>\n",
    "        <thead>\n",
    "            <td>Field Name</td>\n",
    "            <td>Field Description</td>\n",
    "        </thead>\n",
    "        <tbody>\n",
    "            <tr>\n",
    "                <td>i94yr</td>\n",
    "                <td> Year (Numeric)</td>\n",
    "            </tr>\n",
    "            <tr>\n",
    "                <td>i94mon</td>\n",
    "                <td>Month (Numeric)</td>\n",
    "            </tr><tr>\n",
    "                <td>i94city</td>\n",
    "                <td>A 3 digit code for origin city(Numeric)</td>\n",
    "            </tr>\n",
    "            <tr>\n",
    "                <td>i94res</td>\n",
    "                <td>A 3 digit code(Numeric)</td>\n",
    "            </tr>\n",
    "            <tr>\n",
    "                <td>i94port</td>\n",
    "                <td>Destination City Code (3 Character)</td>\n",
    "            </tr>\n",
    "            <tr>\n",
    "                <td>arrdate</td>\n",
    "                <td>Arrival date (in USA)</td>\n",
    "            </tr>\n",
    "            <tr>\n",
    "                <td>i94mode</td>\n",
    "                <td>Travel Code (Numeric)</td>\n",
    "            </tr>\n",
    "            <tr>\n",
    "                <td>i94addr</td>\n",
    "                <td>USA city code</td>\n",
    "            </tr>\n",
    "            <tr>\n",
    "                <td>depdate</td>\n",
    "                <td>The departure date</td>\n",
    "            </tr>\n",
    "            <tr>\n",
    "                <td>i94visa</td>\n",
    "                <td>Reason of Immigration (Numeric)</td>\n",
    "            </tr>\n",
    "        </tbody>\n",
    "    </table>\n",
    "    <br />\n",
    "</font>\n",
    "</div>"
   ]
  },
  {
   "cell_type": "markdown",
   "metadata": {
    "editable": true
   },
   "source": [
    "<div>\n",
    "<strong> Dataset Name : Temperature Data</strong>\n",
    "<br>\n",
    "<font size=\"3\">\n",
    "    This data comes from the <a href=\"https://www.kaggle.com/berkeleyearth/climate-change-earth-surface-temperature-data\">Kaggle</a>. This data contains the temperature details of a particular city. The description of the dataset is provided below:<br />\n",
    "        <em>Dataset Format</em> : \"CSV\" (Comma Seperated values)\n",
    "\n",
    "<br />\n",
    "    <table>\n",
    "        <thead>\n",
    "            <td>Field Name</td>\n",
    "            <td>Field Description</td>\n",
    "        </thead>\n",
    "        <tbody>\n",
    "            <tr>\n",
    "                <td>dt</td>\n",
    "                <td> Date when temperature is measured</td>\n",
    "            </tr>\n",
    "            <tr>\n",
    "                <td>AverageTemperature</td>\n",
    "                <td>Average temperature of the city</td>\n",
    "            </tr>\n",
    "            <tr>\n",
    "                <td>City</td>\n",
    "                <td>Name of the city</td>\n",
    "            </tr>\n",
    "            <tr>\n",
    "                <td>Country</td>\n",
    "                <td>Country where city is located</td>\n",
    "            </tr>\n",
    "            <tr>\n",
    "                <td>Latitude</td>\n",
    "                <td>The latitude</td>\n",
    "            </tr>\n",
    "            <tr>\n",
    "                <td>Longitude</td>\n",
    "                <td>The Longitude</td>\n",
    "            </tr>\n",
    "        </tbody>\n",
    "    </table>\n",
    "    <br />\n",
    "</font>\n",
    "</div>"
   ]
  },
  {
   "cell_type": "code",
   "execution_count": 2,
   "metadata": {
    "editable": true
   },
   "outputs": [],
   "source": [
    "#Defining all the properties that are being used in the project\n",
    "props = {\n",
    "    'immDataPath':'../../data/18-83510-I94-Data-2016/i94_apr16_sub.sas7bdat',\n",
    "    'tempDataPath':'../../data2/GlobalLandTemperaturesByCity.csv',\n",
    "    'immDestCodeMappingPath':'imm_dest_mapping.csv',\n",
    "    'outputBasePath':'/output'\n",
    "}"
   ]
  },
  {
   "cell_type": "code",
   "execution_count": 3,
   "metadata": {
    "editable": true
   },
   "outputs": [],
   "source": [
    "# Reading the immigration data from the path\n",
    "immigrationDf = pd.read_sas(props['immDataPath'], 'sas7bdat', encoding=\"ISO-8859-1\")"
   ]
  },
  {
   "cell_type": "code",
   "execution_count": 4,
   "metadata": {
    "editable": true
   },
   "outputs": [
    {
     "data": {
      "text/html": [
       "<div>\n",
       "<style scoped>\n",
       "    .dataframe tbody tr th:only-of-type {\n",
       "        vertical-align: middle;\n",
       "    }\n",
       "\n",
       "    .dataframe tbody tr th {\n",
       "        vertical-align: top;\n",
       "    }\n",
       "\n",
       "    .dataframe thead th {\n",
       "        text-align: right;\n",
       "    }\n",
       "</style>\n",
       "<table border=\"1\" class=\"dataframe\">\n",
       "  <thead>\n",
       "    <tr style=\"text-align: right;\">\n",
       "      <th></th>\n",
       "      <th>cicid</th>\n",
       "      <th>i94yr</th>\n",
       "      <th>i94mon</th>\n",
       "      <th>i94cit</th>\n",
       "      <th>i94res</th>\n",
       "      <th>i94port</th>\n",
       "      <th>arrdate</th>\n",
       "      <th>i94mode</th>\n",
       "      <th>i94addr</th>\n",
       "      <th>depdate</th>\n",
       "      <th>...</th>\n",
       "      <th>entdepu</th>\n",
       "      <th>matflag</th>\n",
       "      <th>biryear</th>\n",
       "      <th>dtaddto</th>\n",
       "      <th>gender</th>\n",
       "      <th>insnum</th>\n",
       "      <th>airline</th>\n",
       "      <th>admnum</th>\n",
       "      <th>fltno</th>\n",
       "      <th>visatype</th>\n",
       "    </tr>\n",
       "  </thead>\n",
       "  <tbody>\n",
       "    <tr>\n",
       "      <th>0</th>\n",
       "      <td>6.0</td>\n",
       "      <td>2016.0</td>\n",
       "      <td>4.0</td>\n",
       "      <td>692.0</td>\n",
       "      <td>692.0</td>\n",
       "      <td>XXX</td>\n",
       "      <td>20573.0</td>\n",
       "      <td>NaN</td>\n",
       "      <td>NaN</td>\n",
       "      <td>NaN</td>\n",
       "      <td>...</td>\n",
       "      <td>U</td>\n",
       "      <td>NaN</td>\n",
       "      <td>1979.0</td>\n",
       "      <td>10282016</td>\n",
       "      <td>NaN</td>\n",
       "      <td>NaN</td>\n",
       "      <td>NaN</td>\n",
       "      <td>1.897628e+09</td>\n",
       "      <td>NaN</td>\n",
       "      <td>B2</td>\n",
       "    </tr>\n",
       "    <tr>\n",
       "      <th>1</th>\n",
       "      <td>7.0</td>\n",
       "      <td>2016.0</td>\n",
       "      <td>4.0</td>\n",
       "      <td>254.0</td>\n",
       "      <td>276.0</td>\n",
       "      <td>ATL</td>\n",
       "      <td>20551.0</td>\n",
       "      <td>1.0</td>\n",
       "      <td>AL</td>\n",
       "      <td>NaN</td>\n",
       "      <td>...</td>\n",
       "      <td>Y</td>\n",
       "      <td>NaN</td>\n",
       "      <td>1991.0</td>\n",
       "      <td>D/S</td>\n",
       "      <td>M</td>\n",
       "      <td>NaN</td>\n",
       "      <td>NaN</td>\n",
       "      <td>3.736796e+09</td>\n",
       "      <td>00296</td>\n",
       "      <td>F1</td>\n",
       "    </tr>\n",
       "    <tr>\n",
       "      <th>2</th>\n",
       "      <td>15.0</td>\n",
       "      <td>2016.0</td>\n",
       "      <td>4.0</td>\n",
       "      <td>101.0</td>\n",
       "      <td>101.0</td>\n",
       "      <td>WAS</td>\n",
       "      <td>20545.0</td>\n",
       "      <td>1.0</td>\n",
       "      <td>MI</td>\n",
       "      <td>20691.0</td>\n",
       "      <td>...</td>\n",
       "      <td>NaN</td>\n",
       "      <td>M</td>\n",
       "      <td>1961.0</td>\n",
       "      <td>09302016</td>\n",
       "      <td>M</td>\n",
       "      <td>NaN</td>\n",
       "      <td>OS</td>\n",
       "      <td>6.666432e+08</td>\n",
       "      <td>93</td>\n",
       "      <td>B2</td>\n",
       "    </tr>\n",
       "    <tr>\n",
       "      <th>3</th>\n",
       "      <td>16.0</td>\n",
       "      <td>2016.0</td>\n",
       "      <td>4.0</td>\n",
       "      <td>101.0</td>\n",
       "      <td>101.0</td>\n",
       "      <td>NYC</td>\n",
       "      <td>20545.0</td>\n",
       "      <td>1.0</td>\n",
       "      <td>MA</td>\n",
       "      <td>20567.0</td>\n",
       "      <td>...</td>\n",
       "      <td>NaN</td>\n",
       "      <td>M</td>\n",
       "      <td>1988.0</td>\n",
       "      <td>09302016</td>\n",
       "      <td>NaN</td>\n",
       "      <td>NaN</td>\n",
       "      <td>AA</td>\n",
       "      <td>9.246846e+10</td>\n",
       "      <td>00199</td>\n",
       "      <td>B2</td>\n",
       "    </tr>\n",
       "    <tr>\n",
       "      <th>4</th>\n",
       "      <td>17.0</td>\n",
       "      <td>2016.0</td>\n",
       "      <td>4.0</td>\n",
       "      <td>101.0</td>\n",
       "      <td>101.0</td>\n",
       "      <td>NYC</td>\n",
       "      <td>20545.0</td>\n",
       "      <td>1.0</td>\n",
       "      <td>MA</td>\n",
       "      <td>20567.0</td>\n",
       "      <td>...</td>\n",
       "      <td>NaN</td>\n",
       "      <td>M</td>\n",
       "      <td>2012.0</td>\n",
       "      <td>09302016</td>\n",
       "      <td>NaN</td>\n",
       "      <td>NaN</td>\n",
       "      <td>AA</td>\n",
       "      <td>9.246846e+10</td>\n",
       "      <td>00199</td>\n",
       "      <td>B2</td>\n",
       "    </tr>\n",
       "    <tr>\n",
       "      <th>5</th>\n",
       "      <td>18.0</td>\n",
       "      <td>2016.0</td>\n",
       "      <td>4.0</td>\n",
       "      <td>101.0</td>\n",
       "      <td>101.0</td>\n",
       "      <td>NYC</td>\n",
       "      <td>20545.0</td>\n",
       "      <td>1.0</td>\n",
       "      <td>MI</td>\n",
       "      <td>20555.0</td>\n",
       "      <td>...</td>\n",
       "      <td>NaN</td>\n",
       "      <td>M</td>\n",
       "      <td>1959.0</td>\n",
       "      <td>09302016</td>\n",
       "      <td>NaN</td>\n",
       "      <td>NaN</td>\n",
       "      <td>AZ</td>\n",
       "      <td>9.247104e+10</td>\n",
       "      <td>00602</td>\n",
       "      <td>B1</td>\n",
       "    </tr>\n",
       "    <tr>\n",
       "      <th>6</th>\n",
       "      <td>19.0</td>\n",
       "      <td>2016.0</td>\n",
       "      <td>4.0</td>\n",
       "      <td>101.0</td>\n",
       "      <td>101.0</td>\n",
       "      <td>NYC</td>\n",
       "      <td>20545.0</td>\n",
       "      <td>1.0</td>\n",
       "      <td>NJ</td>\n",
       "      <td>20558.0</td>\n",
       "      <td>...</td>\n",
       "      <td>NaN</td>\n",
       "      <td>M</td>\n",
       "      <td>1953.0</td>\n",
       "      <td>09302016</td>\n",
       "      <td>NaN</td>\n",
       "      <td>NaN</td>\n",
       "      <td>AZ</td>\n",
       "      <td>9.247140e+10</td>\n",
       "      <td>00602</td>\n",
       "      <td>B2</td>\n",
       "    </tr>\n",
       "    <tr>\n",
       "      <th>7</th>\n",
       "      <td>20.0</td>\n",
       "      <td>2016.0</td>\n",
       "      <td>4.0</td>\n",
       "      <td>101.0</td>\n",
       "      <td>101.0</td>\n",
       "      <td>NYC</td>\n",
       "      <td>20545.0</td>\n",
       "      <td>1.0</td>\n",
       "      <td>NJ</td>\n",
       "      <td>20558.0</td>\n",
       "      <td>...</td>\n",
       "      <td>NaN</td>\n",
       "      <td>M</td>\n",
       "      <td>1959.0</td>\n",
       "      <td>09302016</td>\n",
       "      <td>NaN</td>\n",
       "      <td>NaN</td>\n",
       "      <td>AZ</td>\n",
       "      <td>9.247161e+10</td>\n",
       "      <td>00602</td>\n",
       "      <td>B2</td>\n",
       "    </tr>\n",
       "    <tr>\n",
       "      <th>8</th>\n",
       "      <td>21.0</td>\n",
       "      <td>2016.0</td>\n",
       "      <td>4.0</td>\n",
       "      <td>101.0</td>\n",
       "      <td>101.0</td>\n",
       "      <td>NYC</td>\n",
       "      <td>20545.0</td>\n",
       "      <td>1.0</td>\n",
       "      <td>NY</td>\n",
       "      <td>20553.0</td>\n",
       "      <td>...</td>\n",
       "      <td>NaN</td>\n",
       "      <td>M</td>\n",
       "      <td>1970.0</td>\n",
       "      <td>09302016</td>\n",
       "      <td>NaN</td>\n",
       "      <td>NaN</td>\n",
       "      <td>AZ</td>\n",
       "      <td>9.247080e+10</td>\n",
       "      <td>00602</td>\n",
       "      <td>B2</td>\n",
       "    </tr>\n",
       "    <tr>\n",
       "      <th>9</th>\n",
       "      <td>22.0</td>\n",
       "      <td>2016.0</td>\n",
       "      <td>4.0</td>\n",
       "      <td>101.0</td>\n",
       "      <td>101.0</td>\n",
       "      <td>NYC</td>\n",
       "      <td>20545.0</td>\n",
       "      <td>1.0</td>\n",
       "      <td>NY</td>\n",
       "      <td>20562.0</td>\n",
       "      <td>...</td>\n",
       "      <td>NaN</td>\n",
       "      <td>M</td>\n",
       "      <td>1968.0</td>\n",
       "      <td>09302016</td>\n",
       "      <td>NaN</td>\n",
       "      <td>NaN</td>\n",
       "      <td>AZ</td>\n",
       "      <td>9.247849e+10</td>\n",
       "      <td>00608</td>\n",
       "      <td>B1</td>\n",
       "    </tr>\n",
       "  </tbody>\n",
       "</table>\n",
       "<p>10 rows × 28 columns</p>\n",
       "</div>"
      ],
      "text/plain": [
       "   cicid   i94yr  i94mon  i94cit  i94res i94port  arrdate  i94mode i94addr  \\\n",
       "0    6.0  2016.0     4.0   692.0   692.0     XXX  20573.0      NaN     NaN   \n",
       "1    7.0  2016.0     4.0   254.0   276.0     ATL  20551.0      1.0      AL   \n",
       "2   15.0  2016.0     4.0   101.0   101.0     WAS  20545.0      1.0      MI   \n",
       "3   16.0  2016.0     4.0   101.0   101.0     NYC  20545.0      1.0      MA   \n",
       "4   17.0  2016.0     4.0   101.0   101.0     NYC  20545.0      1.0      MA   \n",
       "5   18.0  2016.0     4.0   101.0   101.0     NYC  20545.0      1.0      MI   \n",
       "6   19.0  2016.0     4.0   101.0   101.0     NYC  20545.0      1.0      NJ   \n",
       "7   20.0  2016.0     4.0   101.0   101.0     NYC  20545.0      1.0      NJ   \n",
       "8   21.0  2016.0     4.0   101.0   101.0     NYC  20545.0      1.0      NY   \n",
       "9   22.0  2016.0     4.0   101.0   101.0     NYC  20545.0      1.0      NY   \n",
       "\n",
       "   depdate   ...     entdepu  matflag  biryear   dtaddto gender insnum  \\\n",
       "0      NaN   ...           U      NaN   1979.0  10282016    NaN    NaN   \n",
       "1      NaN   ...           Y      NaN   1991.0       D/S      M    NaN   \n",
       "2  20691.0   ...         NaN        M   1961.0  09302016      M    NaN   \n",
       "3  20567.0   ...         NaN        M   1988.0  09302016    NaN    NaN   \n",
       "4  20567.0   ...         NaN        M   2012.0  09302016    NaN    NaN   \n",
       "5  20555.0   ...         NaN        M   1959.0  09302016    NaN    NaN   \n",
       "6  20558.0   ...         NaN        M   1953.0  09302016    NaN    NaN   \n",
       "7  20558.0   ...         NaN        M   1959.0  09302016    NaN    NaN   \n",
       "8  20553.0   ...         NaN        M   1970.0  09302016    NaN    NaN   \n",
       "9  20562.0   ...         NaN        M   1968.0  09302016    NaN    NaN   \n",
       "\n",
       "  airline        admnum  fltno visatype  \n",
       "0     NaN  1.897628e+09    NaN       B2  \n",
       "1     NaN  3.736796e+09  00296       F1  \n",
       "2      OS  6.666432e+08     93       B2  \n",
       "3      AA  9.246846e+10  00199       B2  \n",
       "4      AA  9.246846e+10  00199       B2  \n",
       "5      AZ  9.247104e+10  00602       B1  \n",
       "6      AZ  9.247140e+10  00602       B2  \n",
       "7      AZ  9.247161e+10  00602       B2  \n",
       "8      AZ  9.247080e+10  00602       B2  \n",
       "9      AZ  9.247849e+10  00608       B1  \n",
       "\n",
       "[10 rows x 28 columns]"
      ]
     },
     "execution_count": 4,
     "metadata": {},
     "output_type": "execute_result"
    }
   ],
   "source": [
    "immigrationDf.head(10)"
   ]
  },
  {
   "cell_type": "code",
   "execution_count": 5,
   "metadata": {
    "editable": true
   },
   "outputs": [],
   "source": [
    "# Reading the Kaggle's temperature data\n",
    "tempDataPathDf = pd.read_csv(props['tempDataPath'], sep=',')"
   ]
  },
  {
   "cell_type": "code",
   "execution_count": 6,
   "metadata": {
    "editable": true
   },
   "outputs": [
    {
     "data": {
      "text/html": [
       "<div>\n",
       "<style scoped>\n",
       "    .dataframe tbody tr th:only-of-type {\n",
       "        vertical-align: middle;\n",
       "    }\n",
       "\n",
       "    .dataframe tbody tr th {\n",
       "        vertical-align: top;\n",
       "    }\n",
       "\n",
       "    .dataframe thead th {\n",
       "        text-align: right;\n",
       "    }\n",
       "</style>\n",
       "<table border=\"1\" class=\"dataframe\">\n",
       "  <thead>\n",
       "    <tr style=\"text-align: right;\">\n",
       "      <th></th>\n",
       "      <th>dt</th>\n",
       "      <th>AverageTemperature</th>\n",
       "      <th>AverageTemperatureUncertainty</th>\n",
       "      <th>City</th>\n",
       "      <th>Country</th>\n",
       "      <th>Latitude</th>\n",
       "      <th>Longitude</th>\n",
       "    </tr>\n",
       "  </thead>\n",
       "  <tbody>\n",
       "    <tr>\n",
       "      <th>0</th>\n",
       "      <td>1743-11-01</td>\n",
       "      <td>6.068</td>\n",
       "      <td>1.737</td>\n",
       "      <td>Århus</td>\n",
       "      <td>Denmark</td>\n",
       "      <td>57.05N</td>\n",
       "      <td>10.33E</td>\n",
       "    </tr>\n",
       "    <tr>\n",
       "      <th>1</th>\n",
       "      <td>1743-12-01</td>\n",
       "      <td>NaN</td>\n",
       "      <td>NaN</td>\n",
       "      <td>Århus</td>\n",
       "      <td>Denmark</td>\n",
       "      <td>57.05N</td>\n",
       "      <td>10.33E</td>\n",
       "    </tr>\n",
       "    <tr>\n",
       "      <th>2</th>\n",
       "      <td>1744-01-01</td>\n",
       "      <td>NaN</td>\n",
       "      <td>NaN</td>\n",
       "      <td>Århus</td>\n",
       "      <td>Denmark</td>\n",
       "      <td>57.05N</td>\n",
       "      <td>10.33E</td>\n",
       "    </tr>\n",
       "    <tr>\n",
       "      <th>3</th>\n",
       "      <td>1744-02-01</td>\n",
       "      <td>NaN</td>\n",
       "      <td>NaN</td>\n",
       "      <td>Århus</td>\n",
       "      <td>Denmark</td>\n",
       "      <td>57.05N</td>\n",
       "      <td>10.33E</td>\n",
       "    </tr>\n",
       "    <tr>\n",
       "      <th>4</th>\n",
       "      <td>1744-03-01</td>\n",
       "      <td>NaN</td>\n",
       "      <td>NaN</td>\n",
       "      <td>Århus</td>\n",
       "      <td>Denmark</td>\n",
       "      <td>57.05N</td>\n",
       "      <td>10.33E</td>\n",
       "    </tr>\n",
       "    <tr>\n",
       "      <th>5</th>\n",
       "      <td>1744-04-01</td>\n",
       "      <td>5.788</td>\n",
       "      <td>3.624</td>\n",
       "      <td>Århus</td>\n",
       "      <td>Denmark</td>\n",
       "      <td>57.05N</td>\n",
       "      <td>10.33E</td>\n",
       "    </tr>\n",
       "    <tr>\n",
       "      <th>6</th>\n",
       "      <td>1744-05-01</td>\n",
       "      <td>10.644</td>\n",
       "      <td>1.283</td>\n",
       "      <td>Århus</td>\n",
       "      <td>Denmark</td>\n",
       "      <td>57.05N</td>\n",
       "      <td>10.33E</td>\n",
       "    </tr>\n",
       "    <tr>\n",
       "      <th>7</th>\n",
       "      <td>1744-06-01</td>\n",
       "      <td>14.051</td>\n",
       "      <td>1.347</td>\n",
       "      <td>Århus</td>\n",
       "      <td>Denmark</td>\n",
       "      <td>57.05N</td>\n",
       "      <td>10.33E</td>\n",
       "    </tr>\n",
       "    <tr>\n",
       "      <th>8</th>\n",
       "      <td>1744-07-01</td>\n",
       "      <td>16.082</td>\n",
       "      <td>1.396</td>\n",
       "      <td>Århus</td>\n",
       "      <td>Denmark</td>\n",
       "      <td>57.05N</td>\n",
       "      <td>10.33E</td>\n",
       "    </tr>\n",
       "    <tr>\n",
       "      <th>9</th>\n",
       "      <td>1744-08-01</td>\n",
       "      <td>NaN</td>\n",
       "      <td>NaN</td>\n",
       "      <td>Århus</td>\n",
       "      <td>Denmark</td>\n",
       "      <td>57.05N</td>\n",
       "      <td>10.33E</td>\n",
       "    </tr>\n",
       "  </tbody>\n",
       "</table>\n",
       "</div>"
      ],
      "text/plain": [
       "           dt  AverageTemperature  AverageTemperatureUncertainty   City  \\\n",
       "0  1743-11-01               6.068                          1.737  Århus   \n",
       "1  1743-12-01                 NaN                            NaN  Århus   \n",
       "2  1744-01-01                 NaN                            NaN  Århus   \n",
       "3  1744-02-01                 NaN                            NaN  Århus   \n",
       "4  1744-03-01                 NaN                            NaN  Århus   \n",
       "5  1744-04-01               5.788                          3.624  Århus   \n",
       "6  1744-05-01              10.644                          1.283  Århus   \n",
       "7  1744-06-01              14.051                          1.347  Århus   \n",
       "8  1744-07-01              16.082                          1.396  Århus   \n",
       "9  1744-08-01                 NaN                            NaN  Århus   \n",
       "\n",
       "   Country Latitude Longitude  \n",
       "0  Denmark   57.05N    10.33E  \n",
       "1  Denmark   57.05N    10.33E  \n",
       "2  Denmark   57.05N    10.33E  \n",
       "3  Denmark   57.05N    10.33E  \n",
       "4  Denmark   57.05N    10.33E  \n",
       "5  Denmark   57.05N    10.33E  \n",
       "6  Denmark   57.05N    10.33E  \n",
       "7  Denmark   57.05N    10.33E  \n",
       "8  Denmark   57.05N    10.33E  \n",
       "9  Denmark   57.05N    10.33E  "
      ]
     },
     "execution_count": 6,
     "metadata": {},
     "output_type": "execute_result"
    }
   ],
   "source": [
    "tempDataPathDf.head(10)"
   ]
  },
  {
   "cell_type": "code",
   "execution_count": 7,
   "metadata": {
    "editable": true
   },
   "outputs": [],
   "source": [
    "\t\n",
    "#Creating a spark session and loading the immigrant data\n",
    "from pyspark.sql import SparkSession\n",
    "spark = SparkSession.builder.\\\n",
    "config(\"spark.jars.packages\",\"saurfang:spark-sas7bdat:2.0.0-s_2.11\")\\\n",
    ".enableHiveSupport().getOrCreate()\n",
    "df_spark =spark.read.format('com.github.saurfang.sas.spark').load(props['immDataPath'])"
   ]
  },
  {
   "cell_type": "markdown",
   "metadata": {
    "editable": true
   },
   "source": [
    "### Step 2: Explore and Assess the Data\n",
    "#### Explore the Data "
   ]
  },
  {
   "cell_type": "markdown",
   "metadata": {
    "editable": true
   },
   "source": [
    "##### Cleaning Steps\n",
    "\n",
    "We have extracted the destination mapping data from the \"I94_SAS_Labels_Description.SAS\". We are converting it to dictionary to generate key value mapping for each and every destination code"
   ]
  },
  {
   "cell_type": "markdown",
   "metadata": {
    "editable": true
   },
   "source": [
    "##### Processing the Destination city codes for mapping"
   ]
  },
  {
   "cell_type": "code",
   "execution_count": 8,
   "metadata": {
    "editable": true
   },
   "outputs": [
    {
     "data": {
      "text/html": [
       "<div>\n",
       "<style scoped>\n",
       "    .dataframe tbody tr th:only-of-type {\n",
       "        vertical-align: middle;\n",
       "    }\n",
       "\n",
       "    .dataframe tbody tr th {\n",
       "        vertical-align: top;\n",
       "    }\n",
       "\n",
       "    .dataframe thead th {\n",
       "        text-align: right;\n",
       "    }\n",
       "</style>\n",
       "<table border=\"1\" class=\"dataframe\">\n",
       "  <thead>\n",
       "    <tr style=\"text-align: right;\">\n",
       "      <th></th>\n",
       "      <th>dest_code</th>\n",
       "      <th>dest</th>\n",
       "    </tr>\n",
       "  </thead>\n",
       "  <tbody>\n",
       "    <tr>\n",
       "      <th>0</th>\n",
       "      <td>ALC</td>\n",
       "      <td>ALCAN, AK</td>\n",
       "    </tr>\n",
       "    <tr>\n",
       "      <th>1</th>\n",
       "      <td>ANC</td>\n",
       "      <td>ANCHORAGE, AK</td>\n",
       "    </tr>\n",
       "    <tr>\n",
       "      <th>2</th>\n",
       "      <td>BAR</td>\n",
       "      <td>BAKER AAF - BAKER ISLAND, AK</td>\n",
       "    </tr>\n",
       "    <tr>\n",
       "      <th>3</th>\n",
       "      <td>DAC</td>\n",
       "      <td>DALTONS CACHE, AK</td>\n",
       "    </tr>\n",
       "    <tr>\n",
       "      <th>4</th>\n",
       "      <td>PIZ</td>\n",
       "      <td>DEW STATION PT LAY DEW, AK</td>\n",
       "    </tr>\n",
       "  </tbody>\n",
       "</table>\n",
       "</div>"
      ],
      "text/plain": [
       "  dest_code                          dest\n",
       "0       ALC                    ALCAN, AK \n",
       "1       ANC                 ANCHORAGE, AK\n",
       "2       BAR  BAKER AAF - BAKER ISLAND, AK\n",
       "3       DAC           DALTONS CACHE, AK  \n",
       "4       PIZ    DEW STATION PT LAY DEW, AK"
      ]
     },
     "execution_count": 8,
     "metadata": {},
     "output_type": "execute_result"
    }
   ],
   "source": [
    "# Performing cleaning tasks here\n",
    "destination_df = pd.read_csv(props['immDestCodeMappingPath'],sep='=',names=['dest_code','dest'])\n",
    "destination_df.head()"
   ]
  },
  {
   "cell_type": "code",
   "execution_count": 9,
   "metadata": {
    "editable": true
   },
   "outputs": [],
   "source": [
    "destination_df['city'] = destination_df.apply(lambda x : x.dest.split(',')[0].strip(),axis=1)"
   ]
  },
  {
   "cell_type": "code",
   "execution_count": 10,
   "metadata": {
    "editable": true
   },
   "outputs": [],
   "source": [
    "dest_mapping = dict(zip(destination_df.dest_code,destination_df.city))"
   ]
  },
  {
   "cell_type": "code",
   "execution_count": 11,
   "metadata": {
    "editable": true
   },
   "outputs": [],
   "source": [
    "# A utility method to filter immigration data by destination codes\n",
    "def filter_data_by_destcode(sparkSession, input_path,key_mapping):\n",
    "    '''  \n",
    "    Filters the i94 input dataframe containing rows with valid destination codes. \n",
    "    \n",
    "    :param inputPath: The input path for which dataset needs to be filtered\n",
    "    :param key_mapping: The key value mapping of the destination codes and destination name\n",
    "    :return: The filtered dataframe\n",
    "    '''    \n",
    "    # Read the data with spark session\n",
    "    df = sparkSession.read.format('com.github.saurfang.sas.spark').load(input_path)\n",
    "\n",
    "    # Filter out entries where i94port is not present\n",
    "    df = df.filter(df.i94port.isin(list(key_mapping.keys())))\n",
    "    return df"
   ]
  },
  {
   "cell_type": "markdown",
   "metadata": {
    "editable": true
   },
   "source": [
    "##### Cleaning temperature data"
   ]
  },
  {
   "cell_type": "code",
   "execution_count": 12,
   "metadata": {
    "editable": true
   },
   "outputs": [],
   "source": [
    "# Creating a spark dataframe from the input temperature data\n",
    "temp_df = spark.read.format(\"csv\").option(\"header\", \"true\").load(props['tempDataPath'])"
   ]
  },
  {
   "cell_type": "code",
   "execution_count": 13,
   "metadata": {
    "editable": true
   },
   "outputs": [
    {
     "data": {
      "text/plain": [
       "Row(dt='1743-11-01', AverageTemperature='3.264', AverageTemperatureUncertainty='1.665', City='Allentown', Country='United States', Latitude='40.99N', Longitude='74.56W')"
      ]
     },
     "execution_count": 13,
     "metadata": {},
     "output_type": "execute_result"
    }
   ],
   "source": [
    "#Filtering the null data and dropping the duplicates containing for columns 'City' and 'Country'\n",
    "temp_df = temp_df.filter(temp_df.AverageTemperature != 'NaN').filter(temp_df.City != 'NaN')\n",
    "temp_df = temp_df.dropDuplicates(['City', 'Country'])\n",
    "temp_df.head()"
   ]
  },
  {
   "cell_type": "code",
   "execution_count": 14,
   "metadata": {
    "editable": true
   },
   "outputs": [],
   "source": [
    "#Retrieves the reverse mapping Destination Name -> Destination Code for Optimization\n",
    "dest_code_mapping = dict([(value, key) for key, value in dest_mapping.items()])"
   ]
  },
  {
   "cell_type": "code",
   "execution_count": 15,
   "metadata": {
    "editable": true
   },
   "outputs": [],
   "source": [
    "# A spark udf\n",
    "@udf()\n",
    "def get_dest_code(city_name):\n",
    "    '''  \n",
    "    Retrieves the destination code from the city name \n",
    "    \n",
    "    :param city_name: Name of the city which we need the actual value\n",
    "    :param key_mapping: The key value mapping of the destination codes and destination name\n",
    "    :return: The destination name\n",
    "    ''' \n",
    "    for key in dest_code_mapping.keys():\n",
    "        if (city_name.strip().lower() == key.strip().lower()):\n",
    "            return dest_code_mapping[key]"
   ]
  },
  {
   "cell_type": "code",
   "execution_count": 16,
   "metadata": {
    "editable": true
   },
   "outputs": [],
   "source": [
    "#Creating a new column in the dataframe containing the destination code\n",
    "temp_df = temp_df.withColumn(\"destCode\", get_dest_code(temp_df.City))"
   ]
  },
  {
   "cell_type": "code",
   "execution_count": 17,
   "metadata": {
    "editable": true
   },
   "outputs": [],
   "source": [
    "# Remove data points where the destination code is null\n",
    "temp_df = temp_df.filter(temp_df.destCode != 'null')"
   ]
  },
  {
   "cell_type": "code",
   "execution_count": 18,
   "metadata": {
    "editable": true
   },
   "outputs": [
    {
     "name": "stdout",
     "output_type": "stream",
     "text": [
      "+----------+------------------+-----------------------------+---------+--------------------+--------+---------+--------+\n",
      "|        dt|AverageTemperature|AverageTemperatureUncertainty|     City|             Country|Latitude|Longitude|destCode|\n",
      "+----------+------------------+-----------------------------+---------+--------------------+--------+---------+--------+\n",
      "|1828-01-01|            -1.977|                        2.551|  Seattle|       United States|  47.42N|  121.97W|     SEA|\n",
      "|1743-11-01|             2.767|                        1.905| Hamilton|              Canada|  42.59N|   80.73W|     HAM|\n",
      "|1849-01-01| 7.399999999999999|                        2.699|  Ontario|       United States|  34.56N|  116.76W|     ONT|\n",
      "|1821-11-01|             2.322|                        2.375|  Spokane|       United States|  47.42N|  117.24W|     SPO|\n",
      "|1843-01-01|18.874000000000002|                        2.017|Abu Dhabi|United Arab Emirates|  24.92N|   54.98E|     MAA|\n",
      "+----------+------------------+-----------------------------+---------+--------------------+--------+---------+--------+\n",
      "only showing top 5 rows\n",
      "\n"
     ]
    }
   ],
   "source": [
    "# Show results\n",
    "temp_df.show(5)"
   ]
  },
  {
   "cell_type": "markdown",
   "metadata": {
    "editable": true
   },
   "source": [
    "**Immigrant Data Cleaning**"
   ]
  },
  {
   "cell_type": "code",
   "execution_count": 19,
   "metadata": {
    "editable": true
   },
   "outputs": [],
   "source": [
    "# Clean I94 immigration data and store as Spark dataframe\n",
    "imm_df = filter_data_by_destcode(spark,props['immDataPath'],dest_mapping)"
   ]
  },
  {
   "cell_type": "code",
   "execution_count": 20,
   "metadata": {
    "editable": true
   },
   "outputs": [],
   "source": [
    "# A spark udf\n",
    "@udf(StringType())\n",
    "def get_visa_purpose(visa_code):\n",
    "    '''  \n",
    "    Retrieves the visa purpose from the visa_code. \n",
    "    \n",
    "    :param visa_code: The input path for which dataset needs to be filtered\n",
    "    :return: The visa purpose\n",
    "    ''' \n",
    "    visa_code = int(visa_code)\n",
    "    purpose = 'NaN'\n",
    "    if(visa_code == 1):\n",
    "        purpose = 'Business'\n",
    "    elif (visa_code == 2):\n",
    "        purpose = 'Pleasure'\n",
    "    elif (visa_code ==3):\n",
    "        purpose = 'Student'\n",
    "    return purpose"
   ]
  },
  {
   "cell_type": "code",
   "execution_count": 21,
   "metadata": {
    "editable": true
   },
   "outputs": [],
   "source": [
    "# A spark udf\n",
    "@udf(StringType())\n",
    "def get_travel_mode(travel_code):\n",
    "    '''  \n",
    "    Retrieves the travel_mode_type from the travel_code. \n",
    "    \n",
    "    :param travel_code: The travel_code for which travel_mode_type needs to be retrieved\n",
    "    :return: The travel_mode_type\n",
    "    ''' \n",
    "    travel_mode = 'Not reported'\n",
    "    try:\n",
    "        travel_code = int(travel_code)\n",
    "        if(travel_code == 1):\n",
    "            travel_mode = 'Air'\n",
    "        elif (travel_code == 2):\n",
    "            travel_mode = 'Sea'\n",
    "        elif (travel_code ==3):\n",
    "            travel_mode = 'Land'\n",
    "    except:\n",
    "        print(f\"Invalid travel code {travel_code}\")\n",
    "        return travel_mode"
   ]
  },
  {
   "cell_type": "code",
   "execution_count": 22,
   "metadata": {
    "editable": true
   },
   "outputs": [
    {
     "name": "stdout",
     "output_type": "stream",
     "text": [
      "+-----+------+------+------+------+-------+-------+------------+-------+-------+------+--------+-----+--------+--------+-----+-------+-------+-------+-------+-------+--------+------+------+-------+--------------+-----+--------+\n",
      "|cicid| i94yr|i94mon|i94cit|i94res|i94port|arrdate|     i94mode|i94addr|depdate|i94bir| i94visa|count|dtadfile|visapost|occup|entdepa|entdepd|entdepu|matflag|biryear| dtaddto|gender|insnum|airline|        admnum|fltno|visatype|\n",
      "+-----+------+------+------+------+-------+-------+------------+-------+-------+------+--------+-----+--------+--------+-----+-------+-------+-------+-------+-------+--------+------+------+-------+--------------+-----+--------+\n",
      "|  6.0|2016.0|   4.0| 692.0| 692.0|    XXX|20573.0|Not reported|   null|   null|  37.0|Pleasure|  1.0|    null|    null| null|      T|   null|      U|   null| 1979.0|10282016|  null|  null|   null| 1.897628485E9| null|      B2|\n",
      "|  7.0|2016.0|   4.0| 254.0| 276.0|    ATL|20551.0|        null|     AL|   null|  25.0| Student|  1.0|20130811|     SEO| null|      G|   null|      Y|   null| 1991.0|     D/S|     M|  null|   null|  3.73679633E9|00296|      F1|\n",
      "| 15.0|2016.0|   4.0| 101.0| 101.0|    WAS|20545.0|        null|     MI|20691.0|  55.0|Pleasure|  1.0|20160401|    null| null|      T|      O|   null|      M| 1961.0|09302016|     M|  null|     OS|  6.66643185E8|   93|      B2|\n",
      "| 16.0|2016.0|   4.0| 101.0| 101.0|    NYC|20545.0|        null|     MA|20567.0|  28.0|Pleasure|  1.0|20160401|    null| null|      O|      O|   null|      M| 1988.0|09302016|  null|  null|     AA|9.246846133E10|00199|      B2|\n",
      "| 17.0|2016.0|   4.0| 101.0| 101.0|    NYC|20545.0|        null|     MA|20567.0|   4.0|Pleasure|  1.0|20160401|    null| null|      O|      O|   null|      M| 2012.0|09302016|  null|  null|     AA|9.246846313E10|00199|      B2|\n",
      "+-----+------+------+------+------+-------+-------+------------+-------+-------+------+--------+-----+--------+--------+-----+-------+-------+-------+-------+-------+--------+------+------+-------+--------------+-----+--------+\n",
      "only showing top 5 rows\n",
      "\n"
     ]
    }
   ],
   "source": [
    "imm_df = imm_df.withColumn('i94visa',get_visa_purpose(imm_df.i94visa))\n",
    "imm_df = imm_df.withColumn('i94mode',get_travel_mode(imm_df.i94mode))\n",
    "imm_df.show(5)"
   ]
  },
  {
   "cell_type": "markdown",
   "metadata": {
    "editable": true
   },
   "source": [
    "### Step 3: Define the Data Model\n",
    "#### 3.1 Conceptual Data Model"
   ]
  },
  {
   "cell_type": "markdown",
   "metadata": {
    "editable": true
   },
   "source": [
    "\n",
    "##### **The Fact Table** - This will contain information from the I94 immigration data joined with the city temperature data on i94port\n",
    "\n",
    "\n",
    "Column Details:\n",
    "- immTempId : The unique id for the fact table\n",
    "- city_code : The destination city code for the immigrants\n",
    "- city : The city name referring to the city code\n",
    "- immigrant_arrival_date : Arrival date of immigrants on the destination city \n",
    "- month : The immigration month\n",
    "- year: The immigration year\n",
    "- immigrant_departure_date : Departure date of immigrants\n",
    "- travel_mode : Mode of travel\n",
    "- visa_purpose : The visa purpose\n",
    "- visa_type : The visa type\n",
    "- temperature : The average temperature of destination city.\n",
    "- latitude : The latitude coordinates of destination city\n",
    "- longitude : The longitude coordinates of destination city\n",
    "\n",
    "\n",
    "##### Dimension Table 1 - Data reffering from I94 immigration data.\n",
    "\n",
    "Column Details:\n",
    "- immigrantId : The unique id for the immigrant\n",
    "- i94port : 3 character city code\n",
    "- i94cit : 3 digit origin city code\n",
    "- arrdate : the arrival date\n",
    "- i94mon : immigration month\n",
    "- i94yr : immigration year\n",
    "- depdate : departure date\n",
    "- i94mode : mode of travel\n",
    "- i94visa : visa purpose \n",
    "- visatype : visa type\n",
    "\n",
    "##### Dimension Table 2 - Data containing city temperature information .\n",
    "Column Details:\n",
    "- tempId : The unique id for a particular city's temperature data\n",
    "- destCode : The  destination code for particular city\n",
    "- AverageTemperature : Average temperature of the city\n",
    "- City : The city reffering to the destCode\n",
    "- Country : Country where city is located\n",
    "- Latitude : The latitude coordinates of city\n",
    "- Longitude : The longitude coordinates of city"
   ]
  },
  {
   "cell_type": "markdown",
   "metadata": {
    "editable": true
   },
   "source": [
    "#### 3.2 Mapping Out Data Pipelines\n"
   ]
  },
  {
   "cell_type": "markdown",
   "metadata": {
    "editable": true
   },
   "source": [
    "#### We are following the below steps to pipeline the data to the data model:\n",
    "- First we are creating the dataframes for both immigrant and temperature data using spark session and input data paths.\n",
    "- Then we are cleaning the temperature data and filtering out the required events which are related to the immigrant's city.\n",
    "- Then we are cleaning the immigrant data, and mapping the required values from their codes.\n",
    "- Then we are creating the dimension tables with the required schema by selecting specific fields from dataframe and writing them in parquet format (ELT format) in the '/output' directory.\n",
    "- Then we are creating our fact table by joining these both dimension table which creates the required insights."
   ]
  },
  {
   "cell_type": "markdown",
   "metadata": {
    "editable": true
   },
   "source": [
    "### Step 4: Run Pipelines to Model the Data \n",
    "#### 4.1 Create the data model\n",
    "Build the data pipelines to create the data model."
   ]
  },
  {
   "cell_type": "markdown",
   "metadata": {
    "editable": true
   },
   "source": [
    "##### Creating data model for immigration table"
   ]
  },
  {
   "cell_type": "code",
   "execution_count": 23,
   "metadata": {
    "editable": true
   },
   "outputs": [],
   "source": [
    "#Adding a unique id to the immigrant dataframe\n",
    "imm_df = imm_df.withColumn('immigrantId', F.monotonically_increasing_id())"
   ]
  },
  {
   "cell_type": "code",
   "execution_count": 24,
   "metadata": {
    "editable": true
   },
   "outputs": [],
   "source": [
    "# Extract columns for immigration dimension table\n",
    "imm_select_cols = ['immigrantId','i94port','i94cit','arrdate','i94mon','i94yr','depdate','i94mode','i94visa','visatype']\n",
    "imm_table = imm_df.select(imm_select_cols).distinct()"
   ]
  },
  {
   "cell_type": "code",
   "execution_count": 25,
   "metadata": {
    "editable": true
   },
   "outputs": [],
   "source": [
    "# Writing immigration dataframe (dim table) partitioned by i94port\n",
    "imm_table.write \\\n",
    "        .partitionBy('i94port') \\\n",
    "        .format('parquet') \\\n",
    "        .mode(\"overwrite\") \\\n",
    "        .save(props['outputBasePath'] + '/immigration')"
   ]
  },
  {
   "cell_type": "code",
   "execution_count": 26,
   "metadata": {
    "editable": true
   },
   "outputs": [],
   "source": [
    "#Creating data model for Temperature table"
   ]
  },
  {
   "cell_type": "code",
   "execution_count": 27,
   "metadata": {
    "editable": true
   },
   "outputs": [],
   "source": [
    "# Adding a unique id to the temperature dataframe\n",
    "temp_df = temp_df.withColumn('tempId', F.monotonically_increasing_id())"
   ]
  },
  {
   "cell_type": "code",
   "execution_count": 28,
   "metadata": {
    "editable": true
   },
   "outputs": [],
   "source": [
    "# Extract columns for temperature dimension table\n",
    "temp_select_cols = ['tempId','destCode','AverageTemperature','City','Country','Latitude','Longitude']\n",
    "temp_table = temp_df.select(temp_select_cols).distinct()\n"
   ]
  },
  {
   "cell_type": "code",
   "execution_count": 29,
   "metadata": {
    "editable": true
   },
   "outputs": [],
   "source": [
    "# Write temperature dimension table to parquet files partitioned by destCode\n",
    "temp_table.write \\\n",
    "        .partitionBy('destCode') \\\n",
    "        .format('parquet') \\\n",
    "        .mode(\"overwrite\") \\\n",
    "        .save(props['outputBasePath'] + '/temperature')"
   ]
  },
  {
   "cell_type": "markdown",
   "metadata": {
    "editable": true
   },
   "source": [
    "##### Creating fact table using the dimension tables"
   ]
  },
  {
   "cell_type": "code",
   "execution_count": 30,
   "metadata": {
    "editable": true
   },
   "outputs": [],
   "source": [
    "# Joining tables by destination code\n",
    "imm_temp_df = imm_df.join(temp_df, imm_df.i94port == temp_df.destCode)\n",
    "imm_temp_df = imm_temp_df.withColumn('immTempId', F.monotonically_increasing_id())"
   ]
  },
  {
   "cell_type": "code",
   "execution_count": 31,
   "metadata": {
    "editable": true
   },
   "outputs": [
    {
     "name": "stdout",
     "output_type": "stream",
     "text": [
      "+--------+------+------+------+------+-------+-------+-------+-------+-------+------+--------+-----+--------+--------+-----+-------+-------+-------+-------+-------+--------+------+------+-------+---------------+-----+--------+-----------+----------+------------------+-----------------------------+-----------+-------------+--------+---------+--------+------------+-----------+\n",
      "|   cicid| i94yr|i94mon|i94cit|i94res|i94port|arrdate|i94mode|i94addr|depdate|i94bir| i94visa|count|dtadfile|visapost|occup|entdepa|entdepd|entdepu|matflag|biryear| dtaddto|gender|insnum|airline|         admnum|fltno|visatype|immigrantId|        dt|AverageTemperature|AverageTemperatureUncertainty|       City|      Country|Latitude|Longitude|destCode|      tempId|  immTempId|\n",
      "+--------+------+------+------+------+-------+-------+-------+-------+-------+------+--------+-----+--------+--------+-----+-------+-------+-------+-------+-------+--------+------+------+-------+---------------+-----+--------+-----------+----------+------------------+-----------------------------+-----------+-------------+--------+---------+--------+------------+-----------+\n",
      "|  9732.0|2016.0|   4.0| 111.0| 111.0|    SNA|20545.0|   null|     TX|20547.0|  30.0|Business|  1.0|20160401|    null| null|      G|      O|   null|      M| 1986.0|06292016|     M|  null|     AM|5.5453131333E10|00634|      WB|       8340|1820-01-01| 7.168999999999999|                        3.676|San Antonio|United States|  29.74N|   97.85W|     SNA|833223655425|34359738368|\n",
      "| 12310.0|2016.0|   4.0| 114.0| 114.0|    SNA|20545.0|   null|     CA|20562.0|  37.0|Pleasure|  1.0|20160401|    null| null|      G|      O|   null|      M| 1979.0|06292016|     F|  null|     WN|5.5456840133E10|01810|      WT|      10161|1820-01-01| 7.168999999999999|                        3.676|San Antonio|United States|  29.74N|   97.85W|     SNA|833223655425|34359738369|\n",
      "| 16573.0|2016.0|   4.0| 117.0| 582.0|    SNA|20545.0|   null|     TX|20559.0|  51.0|Pleasure|  1.0|20160401|    null| null|      G|      O|   null|      M| 1965.0|06292016|     M|  null|     4O|5.5411580733E10|02950|      WT|      13584|1820-01-01| 7.168999999999999|                        3.676|San Antonio|United States|  29.74N|   97.85W|     SNA|833223655425|34359738370|\n",
      "| 22742.0|2016.0|   4.0| 129.0| 129.0|    SNA|20545.0|   null|     TX|20548.0|  48.0|Pleasure|  1.0|20160401|    null| null|      G|      O|   null|      M| 1968.0|06292016|     M|  null|     AM|5.5418624333E10|00632|      WT|      18683|1820-01-01| 7.168999999999999|                        3.676|San Antonio|United States|  29.74N|   97.85W|     SNA|833223655425|34359738371|\n",
      "|139792.0|2016.0|   4.0| 575.0| 575.0|    SNA|20545.0|   null|     TX|20547.0|  41.0|Business|  1.0|20160401|     MEX| null|      G|      O|   null|      M| 1975.0|09302016|     M|  null|     AM| 9.246656663E10|00632|      B1|      78527|1820-01-01| 7.168999999999999|                        3.676|San Antonio|United States|  29.74N|   97.85W|     SNA|833223655425|34359738372|\n",
      "|140354.0|2016.0|   4.0| 575.0| 575.0|    SNA|20545.0|   null|     TX|20547.0|  31.0|Pleasure|  1.0|20160401|     SNJ| null|      G|      O|   null|      M| 1985.0|09302016|     F|  null|     AM| 9.246670873E10|00632|      B2|      78988|1820-01-01| 7.168999999999999|                        3.676|San Antonio|United States|  29.74N|   97.85W|     SNA|833223655425|34359738373|\n",
      "|141463.0|2016.0|   4.0| 577.0| 577.0|    SNA|20545.0|   null|     TX|20550.0|  36.0|Business|  1.0|20160401|     GTM| null|      G|      O|   null|      M| 1980.0|09302016|     M|  null|     4O| 9.245649513E10|02950|      B1|      79860|1820-01-01| 7.168999999999999|                        3.676|San Antonio|United States|  29.74N|   97.85W|     SNA|833223655425|34359738374|\n",
      "|141464.0|2016.0|   4.0| 577.0| 577.0|    SNA|20545.0|   null|     TX|20560.0|  51.0|Pleasure|  1.0|20160401|     GTM| null|      G|      Q|   null|      M| 1965.0|09302016|     M|  null|     AM| 9.250168403E10|00634|      B2|      79861|1820-01-01| 7.168999999999999|                        3.676|San Antonio|United States|  29.74N|   97.85W|     SNA|833223655425|34359738375|\n",
      "|141795.0|2016.0|   4.0| 582.0| 582.0|    SNA|20545.0|   null|     TX|20560.0|  36.0|Business|  1.0|20160401|     CDJ| null|      G|      O|   null|      M| 1980.0|11252016|     F|  null|     4O| 9.251207093E10|02952|      E2|      80083|1820-01-01| 7.168999999999999|                        3.676|San Antonio|United States|  29.74N|   97.85W|     SNA|833223655425|34359738376|\n",
      "|141881.0|2016.0|   4.0| 582.0| 582.0|    SNA|20545.0|   null|     TX|   null|  11.0|Pleasure|  1.0|20160401|     MEX| null|      G|   null|   null|   null| 2005.0|09302016|     F|  null|     AM| 9.246644383E10|00632|      B2|      80143|1820-01-01| 7.168999999999999|                        3.676|San Antonio|United States|  29.74N|   97.85W|     SNA|833223655425|34359738377|\n",
      "|142454.0|2016.0|   4.0| 582.0| 582.0|    SNA|20545.0|   null|   null|20555.0|  42.0|Business|  1.0|20160401|    null| null|      T|      R|   null|      M| 1974.0|03312018|     M|  null|     AM|   6.68556285E8|  634|      E1|      80501|1820-01-01| 7.168999999999999|                        3.676|San Antonio|United States|  29.74N|   97.85W|     SNA|833223655425|34359738378|\n",
      "|142455.0|2016.0|   4.0| 582.0| 582.0|    SNA|20545.0|   null|     TE|20567.0|  39.0|Pleasure|  1.0|20160401|    null| null|      K|      I|   null|      M| 1977.0|10012016|     M|  null|     AM| 9.250024123E10|00634|      B2|      80502|1820-01-01| 7.168999999999999|                        3.676|San Antonio|United States|  29.74N|   97.85W|     SNA|833223655425|34359738379|\n",
      "|142456.0|2016.0|   4.0| 582.0| 582.0|    SNA|20545.0|   null|     TX|   null|  62.0|Pleasure|  1.0|20160401|    null| null|      K|   null|   null|   null| 1954.0|10012016|     M|  null|     4O| 9.245559783E10|02950|      B2|      80503|1820-01-01| 7.168999999999999|                        3.676|San Antonio|United States|  29.74N|   97.85W|     SNA|833223655425|34359738380|\n",
      "|142457.0|2016.0|   4.0| 582.0| 582.0|    SNA|20545.0|   null|     TX|20565.0|  38.0|Pleasure|  1.0|20160401|    null| null|      K|      I|   null|      M| 1978.0|10012016|     M|  null|     4O| 9.247134243E10|04960|      B2|      80504|1820-01-01| 7.168999999999999|                        3.676|San Antonio|United States|  29.74N|   97.85W|     SNA|833223655425|34359738381|\n",
      "|142458.0|2016.0|   4.0| 582.0| 582.0|    SNA|20545.0|   null|     TX|20612.0|  43.0|Pleasure|  1.0|20160401|    null| null|      K|      I|   null|      M| 1973.0|10012016|     M|  null|     4O| 9.245485993E10|02950|      B2|      80505|1820-01-01| 7.168999999999999|                        3.676|San Antonio|United States|  29.74N|   97.85W|     SNA|833223655425|34359738382|\n",
      "|142459.0|2016.0|   4.0| 582.0| 582.0|    SNA|20545.0|   null|     TX|20653.0|  63.0|Pleasure|  1.0|20160401|    null| null|      K|      I|   null|      M| 1953.0|10012016|     F|  null|     4O| 9.245508533E10|02950|      B2|      80506|1820-01-01| 7.168999999999999|                        3.676|San Antonio|United States|  29.74N|   97.85W|     SNA|833223655425|34359738383|\n",
      "|142460.0|2016.0|   4.0| 582.0| 582.0|    SNA|20545.0|   null|     TX|20547.0|  24.0|Pleasure|  1.0|20160401|    null| null|      K|      O|   null|      M| 1992.0|10012016|     F|  null|     4O| 9.251155663E10|02952|      B2|      80507|1820-01-01| 7.168999999999999|                        3.676|San Antonio|United States|  29.74N|   97.85W|     SNA|833223655425|34359738384|\n",
      "|142461.0|2016.0|   4.0| 582.0| 582.0|    SNA|20545.0|   null|     TX|20548.0|  52.0|Pleasure|  1.0|20160401|    null| null|      K|      O|   null|      M| 1964.0|10012016|     M|  null|     4O| 9.245500293E10|02950|      B2|      80508|1820-01-01| 7.168999999999999|                        3.676|San Antonio|United States|  29.74N|   97.85W|     SNA|833223655425|34359738385|\n",
      "|142462.0|2016.0|   4.0| 582.0| 582.0|    SNA|20545.0|   null|     TX|20548.0|  43.0|Pleasure|  1.0|20160401|    null| null|      K|      O|   null|      M| 1973.0|10012016|     M|  null|     4O| 9.251158963E10|02952|      B2|      80509|1820-01-01| 7.168999999999999|                        3.676|San Antonio|United States|  29.74N|   97.85W|     SNA|833223655425|34359738386|\n",
      "|142463.0|2016.0|   4.0| 582.0| 582.0|    SNA|20545.0|   null|     TX|20548.0|  32.0|Pleasure|  1.0|20160401|    null| null|      K|      O|   null|      M| 1984.0|10012016|     M|  null|     4O| 9.247198133E10|04960|      B2|      80510|1820-01-01| 7.168999999999999|                        3.676|San Antonio|United States|  29.74N|   97.85W|     SNA|833223655425|34359738387|\n",
      "+--------+------+------+------+------+-------+-------+-------+-------+-------+------+--------+-----+--------+--------+-----+-------+-------+-------+-------+-------+--------+------+------+-------+---------------+-----+--------+-----------+----------+------------------+-----------------------------+-----------+-------------+--------+---------+--------+------------+-----------+\n",
      "only showing top 20 rows\n",
      "\n"
     ]
    }
   ],
   "source": [
    "imm_temp_df.show()"
   ]
  },
  {
   "cell_type": "code",
   "execution_count": 32,
   "metadata": {
    "editable": true
   },
   "outputs": [],
   "source": [
    "imm_temp_table = imm_temp_df.select(\n",
    "    'immTempId',\n",
    "    col('i94port').alias('city_code'),\n",
    "    col('i94cit').alias('city'),\n",
    "    col('arrdate').alias('immigrant_arrival_date'),\n",
    "    col('i94mon').alias('month'),\n",
    "    col('i94yr').alias('year'),\n",
    "    col('depdate').alias('immigrant_departure_date'),\n",
    "    col('i94mode').alias('travel_mode'),\n",
    "    col('i94visa').alias('visa_purpose'),\n",
    "    col('visatype').alias('visa_type'),\n",
    "    col('AverageTemperature').alias('temperature'),\n",
    "    col('Latitude').alias('latitude'),\n",
    "    col('Longitude').alias('longitude')\n",
    ").distinct()"
   ]
  },
  {
   "cell_type": "code",
   "execution_count": 33,
   "metadata": {
    "editable": true
   },
   "outputs": [],
   "source": [
    "imm_temp_table.write \\\n",
    "        .partitionBy('city_code') \\\n",
    "        .format('parquet') \\\n",
    "        .mode(\"overwrite\") \\\n",
    "        .save(props['outputBasePath'] + '/city_temp_facts')"
   ]
  },
  {
   "cell_type": "markdown",
   "metadata": {
    "editable": true
   },
   "source": [
    "#### 4.2 Data Quality Checks"
   ]
  },
  {
   "cell_type": "code",
   "execution_count": 34,
   "metadata": {
    "editable": true
   },
   "outputs": [],
   "source": [
    "# A method to perform data quality checks\n",
    "def perform_quality_check(df, table_name):\n",
    "    '''\n",
    "    Computes the quality check and logs the result for input dataframe.\n",
    "    \n",
    "    :param df: Input spark dataframe\n",
    "    :param table_name: The table name reffering to the dataframe printing data quality check\n",
    "    :return: None\n",
    "    '''\n",
    "    print(f\"===========Data Quality Check started for {table_name} table==============\")\n",
    "    rowCount = df.count()\n",
    "    \n",
    "    if rowCount == 0:\n",
    "        print(f\"Data quality check failed for {table_name} with zero records\")\n",
    "    else:\n",
    "        print(f\"Data quality check passed for {table_name} with {rowCount} records\")\n",
    "    print(\"\\n\\n\")"
   ]
  },
  {
   "cell_type": "code",
   "execution_count": null,
   "metadata": {
    "editable": true
   },
   "outputs": [
    {
     "name": "stdout",
     "output_type": "stream",
     "text": [
      "===========Data Quality Check started for immigration table==============\n",
      "Data quality check passed for immigration with 3096313 records\n",
      "\n",
      "\n",
      "\n",
      "===========Data Quality Check started for temperature table==============\n"
     ]
    }
   ],
   "source": [
    "# Perform data quality checks on fact and dimension tables\n",
    "perform_quality_check(imm_df, 'immigration')\n",
    "perform_quality_check(temp_df, 'temperature')\n",
    "perform_quality_check(imm_temp_df,'city_temp_facts')"
   ]
  },
  {
   "cell_type": "markdown",
   "metadata": {
    "editable": true
   },
   "source": [
    "#### 4.3 Data dictionary \n",
    "Create a data dictionary for your data model. For each field, provide a brief description of what the data is and where it came from. You can include the data dictionary in the notebook or in a separate file."
   ]
  },
  {
   "cell_type": "markdown",
   "metadata": {
    "editable": true
   },
   "source": [
    "4.3 Data dictionary\n",
    "##### **The Fact Table** - This will contain information from the I94 immigration data joined with the city temperature data on i94port\n",
    "\n",
    "\n",
    "Column Details:\n",
    "- immTempId : The unique id for the fact table\n",
    "- city_code : The destination city code for the immigrants\n",
    "- city : The city name referring to the city code\n",
    "- immigrant_arrival_date : Arrival date of immigrants on the destination city \n",
    "- month : The immigration month\n",
    "- year: The immigration year\n",
    "- immigrant_departure_date : Departure date of immigrants\n",
    "- travel_mode : Mode of travel\n",
    "- visa_purpose : The visa purpose\n",
    "- visa_type : The visa type\n",
    "- temperature : The average temperature of destination city.\n",
    "- latitude : The latitude coordinates of destination city\n",
    "- longitude : The longitude coordinates of destination city\n",
    "\n",
    "The schema details for the fact table are described below - "
   ]
  },
  {
   "cell_type": "code",
   "execution_count": null,
   "metadata": {
    "editable": true
   },
   "outputs": [],
   "source": [
    "imm_temp_df.printSchema()"
   ]
  },
  {
   "cell_type": "markdown",
   "metadata": {
    "editable": true
   },
   "source": [
    "##### Dimension Table 1 - Data reffering from I94 immigration data.\n",
    "\n",
    "Column Details:\n",
    "- immigrantId : The unique id for the immigrant\n",
    "- i94port : 3 character city code\n",
    "- i94cit : 3 digit origin city code\n",
    "- arrdate : the arrival date\n",
    "- i94mon : immigration month\n",
    "- i94yr : immigration year\n",
    "- depdate : departure date\n",
    "- i94mode : mode of travel\n",
    "- i94visa : visa purpose \n",
    "- visatype : visa type\n",
    "\n",
    "The schema details for the immigration dimension table are described below - "
   ]
  },
  {
   "cell_type": "code",
   "execution_count": null,
   "metadata": {
    "editable": true
   },
   "outputs": [],
   "source": [
    "imm_df.printSchema()"
   ]
  },
  {
   "cell_type": "markdown",
   "metadata": {
    "editable": true
   },
   "source": [
    "##### Dimension Table 2 - Data containing city temperature information .\n",
    "Column Details:\n",
    "- tempId : The unique id for a particular city's temperature data\n",
    "- destCode : The  destination code for particular city\n",
    "- AverageTemperature : Average temperature of the city\n",
    "- City : The city reffering to the destCode\n",
    "- Country : Country where city is located\n",
    "- Latitude : The latitude coordinates of city\n",
    "- Longitude : The longitude coordinates of city\n",
    "\n",
    "The schema details for the immigration temperature table are described below - "
   ]
  },
  {
   "cell_type": "code",
   "execution_count": null,
   "metadata": {
    "editable": true
   },
   "outputs": [],
   "source": [
    "temp_df.printSchema()"
   ]
  },
  {
   "cell_type": "markdown",
   "metadata": {
    "editable": true
   },
   "source": [
    "#### Step 5: Complete Project Write Up"
   ]
  },
  {
   "cell_type": "markdown",
   "metadata": {
    "editable": true
   },
   "source": [
    "#### Clearly state the rationale for the choice of tools and technologies for the project.\n",
    "I have used the spark for this project due to below reasons:\n",
    "- We can easily manage input data from various for different file formats eg. SAS,csv etc.\n",
    "- Its fast, easy and effecient to process the large amount of data\n",
    "- Even if the data or number of users increases we can reuse the same code by modifying the spark configuration."
   ]
  },
  {
   "cell_type": "markdown",
   "metadata": {
    "editable": true
   },
   "source": [
    "#### Propose how often the data should be updated and why.\n",
    "As the raw files are being formatted by month, we can update the data on monthy basis."
   ]
  },
  {
   "cell_type": "markdown",
   "metadata": {
    "editable": true
   },
   "source": [
    "#### We can manage the problem differently considering all the above scenarios:\n",
    "\n",
    "\n",
    "<strong>Scenario 1: The data was increased by 100x </strong><br>\n",
    "<font size=\"3\">\n",
    "    Solution: We can load our data into <strong>Amazon Redshift</strong>. Its highly optimized for large workloads and operations like aggeregating data.\n",
    "</font>\n",
    "<br/><br/>\n",
    "<strong>Scenario 2: The data populates a dashboard that must be updated on a daily basis by 7am every day.</strong><br>\n",
    "<font size=\"3\">\n",
    "    Solution: This action can be easily performed using <b> Airflow</b> by creating a pipeline and adding scheduler to it which will run on daily basis. We can also add DAG retry mechanism, perform data checks, and we can also send emails in case of failures. We can also alter the dashboard functionality in case of failures\n",
    "</font>\n",
    "<br/><br/>\n",
    "<strong>Scenario 3: The database needed to be accessed by 100+ people.</strong><br>\n",
    "<font size=\"3\">\n",
    "    Solution: This also can be achieved by using <strong>Amazon Redshift</strong>.Its completely auto scalable, highly optimized with extremely good performance during any operations performed.\n",
    "</font>"
   ]
  },
  {
   "cell_type": "code",
   "execution_count": null,
   "metadata": {
    "editable": true
   },
   "outputs": [],
   "source": []
  }
 ],
 "metadata": {
  "kernelspec": {
   "display_name": "Python 3 - Tensorflow",
   "language": "python",
   "name": "python3"
  },
  "language_info": {
   "codemirror_mode": {
    "name": "ipython",
    "version": 3
   },
   "file_extension": ".py",
   "mimetype": "text/x-python",
   "name": "python",
   "nbconvert_exporter": "python",
   "pygments_lexer": "ipython3",
   "version": "3.7.6"
  }
 },
 "nbformat": 4,
 "nbformat_minor": 4
}
